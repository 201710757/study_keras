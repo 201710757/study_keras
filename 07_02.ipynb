{
 "cells": [
  {
   "cell_type": "code",
   "execution_count": 1,
   "id": "f1385994",
   "metadata": {},
   "outputs": [
    {
     "name": "stdout",
     "output_type": "stream",
     "text": [
      "Python 3.9.5\r\n"
     ]
    }
   ],
   "source": [
    "!python -V"
   ]
  },
  {
   "cell_type": "code",
   "execution_count": 2,
   "id": "94d3fed7",
   "metadata": {},
   "outputs": [],
   "source": [
    "from tensorflow.keras.layers import Dense, Input, Flatten, Activation\n",
    "from tensorflow.keras.models import Sequential\n",
    "from tensorflow.keras import Model"
   ]
  },
  {
   "cell_type": "code",
   "execution_count": 4,
   "id": "404ae940",
   "metadata": {},
   "outputs": [
    {
     "data": {
      "text/plain": [
       "<tensorflow.python.keras.layers.core.Flatten at 0x7f6b5a9cae80>"
      ]
     },
     "execution_count": 4,
     "metadata": {},
     "output_type": "execute_result"
    }
   ],
   "source": [
    "Dense(10, activation='relu')\n",
    "Flatten(input_shape=(28,28))"
   ]
  },
  {
   "cell_type": "code",
   "execution_count": 5,
   "id": "4cfe7f77",
   "metadata": {},
   "outputs": [
    {
     "data": {
      "text/plain": [
       "<KerasTensor: shape=(None, 2) dtype=float32 (created by layer 'input_1')>"
      ]
     },
     "execution_count": 5,
     "metadata": {},
     "output_type": "execute_result"
    }
   ],
   "source": [
    "import numpy as np\n",
    "x_train = np.random.randn(5500, 2)\n",
    "\n",
    "Input(shape=x_train.shape[1:])"
   ]
  },
  {
   "cell_type": "code",
   "execution_count": 6,
   "id": "92c6a6b0",
   "metadata": {},
   "outputs": [
    {
     "data": {
      "text/plain": [
       "(5500, 2)"
      ]
     },
     "execution_count": 6,
     "metadata": {},
     "output_type": "execute_result"
    }
   ],
   "source": [
    "x_train.shape"
   ]
  },
  {
   "cell_type": "markdown",
   "id": "91c112e8",
   "metadata": {},
   "source": [
    "---\n",
    "## Dense Layer"
   ]
  },
  {
   "cell_type": "code",
   "execution_count": 7,
   "id": "f8c463f3",
   "metadata": {},
   "outputs": [],
   "source": [
    "dense = Dense(10, activation='relu', name='Dense Layer')"
   ]
  },
  {
   "cell_type": "code",
   "execution_count": 8,
   "id": "b6211fa0",
   "metadata": {},
   "outputs": [
    {
     "data": {
      "text/plain": [
       "<tensorflow.python.keras.layers.core.Dense at 0x7f6b5aa7c460>"
      ]
     },
     "execution_count": 8,
     "metadata": {},
     "output_type": "execute_result"
    }
   ],
   "source": [
    "dense"
   ]
  },
  {
   "cell_type": "code",
   "execution_count": 9,
   "id": "a4904ba8",
   "metadata": {},
   "outputs": [],
   "source": [
    "dense2 = Dense(15, activation='softmax')"
   ]
  },
  {
   "cell_type": "markdown",
   "id": "c6ff23f7",
   "metadata": {},
   "source": [
    "---\n",
    "## Activation"
   ]
  },
  {
   "cell_type": "code",
   "execution_count": 11,
   "id": "1d8d42ef",
   "metadata": {},
   "outputs": [],
   "source": [
    "dense = Dense(10, kernel_initializer='he_normal', name='Dense Layer')\n",
    "dense = Activation(dense)"
   ]
  },
  {
   "cell_type": "markdown",
   "id": "c18a7203",
   "metadata": {},
   "source": [
    "---\n",
    "## Flatten"
   ]
  },
  {
   "cell_type": "code",
   "execution_count": 14,
   "id": "55d0fde8",
   "metadata": {},
   "outputs": [
    {
     "data": {
      "text/plain": [
       "<tensorflow.python.keras.layers.core.Flatten at 0x7f6b5b6beb20>"
      ]
     },
     "execution_count": 14,
     "metadata": {},
     "output_type": "execute_result"
    }
   ],
   "source": [
    "Flatten(input_shape=(28,28))"
   ]
  },
  {
   "cell_type": "markdown",
   "id": "814ff656",
   "metadata": {},
   "source": [
    "---\n",
    "## Input"
   ]
  },
  {
   "cell_type": "code",
   "execution_count": 20,
   "id": "e9d0a3c3",
   "metadata": {},
   "outputs": [],
   "source": [
    "import tensorflow as tf\n",
    "input_1 = Input(shape=(28,28), dtype=tf.float32)\n",
    "input_2 = Input(shape=(8,), dtype=tf.int32)"
   ]
  },
  {
   "cell_type": "code",
   "execution_count": 21,
   "id": "a49033c0",
   "metadata": {},
   "outputs": [
    {
     "data": {
      "text/plain": [
       "<KerasTensor: shape=(None, 28, 28) dtype=float32 (created by layer 'input_4')>"
      ]
     },
     "execution_count": 21,
     "metadata": {},
     "output_type": "execute_result"
    }
   ],
   "source": [
    "input_1"
   ]
  },
  {
   "cell_type": "code",
   "execution_count": 22,
   "id": "4d89f9f3",
   "metadata": {},
   "outputs": [
    {
     "data": {
      "text/plain": [
       "<KerasTensor: shape=(None, 8) dtype=int32 (created by layer 'input_5')>"
      ]
     },
     "execution_count": 22,
     "metadata": {},
     "output_type": "execute_result"
    }
   ],
   "source": [
    "input_2"
   ]
  },
  {
   "cell_type": "markdown",
   "id": "fe49851e",
   "metadata": {},
   "source": [
    "---\n",
    "## Sequential"
   ]
  },
  {
   "cell_type": "code",
   "execution_count": 23,
   "id": "663c43a6",
   "metadata": {},
   "outputs": [],
   "source": [
    "from tensorflow.keras.utils import plot_model\n",
    "# plot_model(model, to_file='model.png')"
   ]
  },
  {
   "cell_type": "code",
   "execution_count": 27,
   "id": "a0b3ca45",
   "metadata": {},
   "outputs": [
    {
     "name": "stdout",
     "output_type": "stream",
     "text": [
      "WARNING:tensorflow:Please add `keras.layers.InputLayer` instead of `keras.Input` to Sequential model. `keras.Input` is intended to be used by Functional model.\n"
     ]
    }
   ],
   "source": [
    "model = Sequential()\n",
    "model.add(Input(shape=(28,28)))\n",
    "model.add(Dense(300, activation='relu'))\n",
    "model.add(Dense(100, activation='relu'))\n",
    "model.add(Dense(10, activation='softmax'))"
   ]
  },
  {
   "cell_type": "code",
   "execution_count": 28,
   "id": "c88421a0",
   "metadata": {},
   "outputs": [
    {
     "name": "stdout",
     "output_type": "stream",
     "text": [
      "Model: \"sequential_3\"\n",
      "_________________________________________________________________\n",
      "Layer (type)                 Output Shape              Param #   \n",
      "=================================================================\n",
      "dense_5 (Dense)              (None, 28, 300)           8700      \n",
      "_________________________________________________________________\n",
      "dense_6 (Dense)              (None, 28, 100)           30100     \n",
      "_________________________________________________________________\n",
      "dense_7 (Dense)              (None, 28, 10)            1010      \n",
      "=================================================================\n",
      "Total params: 39,810\n",
      "Trainable params: 39,810\n",
      "Non-trainable params: 0\n",
      "_________________________________________________________________\n"
     ]
    }
   ],
   "source": [
    "model.summary()"
   ]
  },
  {
   "cell_type": "markdown",
   "id": "646068da",
   "metadata": {},
   "source": [
    "---\n",
    "## functional API"
   ]
  },
  {
   "cell_type": "code",
   "execution_count": 43,
   "id": "9548b527",
   "metadata": {},
   "outputs": [],
   "source": [
    "inputs = Input(shape=(28,28,1))\n",
    "\n",
    "x = Flatten(input_shape=(28,28,1))(inputs)\n",
    "x = Dense(300, activation='relu')(x)\n",
    "x = Dense(100, activation='relu')(x)\n",
    "x = Dense(10, activation = 'softmax')(x)"
   ]
  },
  {
   "cell_type": "code",
   "execution_count": 46,
   "id": "19f2c060",
   "metadata": {},
   "outputs": [],
   "source": [
    "model = Model(inputs=inputs, outputs=x)"
   ]
  },
  {
   "cell_type": "code",
   "execution_count": 47,
   "id": "36d4809b",
   "metadata": {},
   "outputs": [
    {
     "name": "stdout",
     "output_type": "stream",
     "text": [
      "Model: \"model\"\n",
      "_________________________________________________________________\n",
      "Layer (type)                 Output Shape              Param #   \n",
      "=================================================================\n",
      "input_9 (InputLayer)         [(None, 28, 28, 1)]       0         \n",
      "_________________________________________________________________\n",
      "flatten_4 (Flatten)          (None, 784)               0         \n",
      "_________________________________________________________________\n",
      "dense_8 (Dense)              (None, 300)               235500    \n",
      "_________________________________________________________________\n",
      "dense_9 (Dense)              (None, 100)               30100     \n",
      "_________________________________________________________________\n",
      "dense_10 (Dense)             (None, 10)                1010      \n",
      "=================================================================\n",
      "Total params: 266,610\n",
      "Trainable params: 266,610\n",
      "Non-trainable params: 0\n",
      "_________________________________________________________________\n"
     ]
    }
   ],
   "source": [
    "model.summary()"
   ]
  },
  {
   "cell_type": "code",
   "execution_count": 49,
   "id": "2fb2a711",
   "metadata": {},
   "outputs": [],
   "source": [
    "from tensorflow.keras.layers import Concatenate\n",
    "\n",
    "input_layer = Input(shape=(28,28))\n",
    "hidden1 = Dense(100, activation='relu')(input_layer)\n",
    "hidden2 = Dense(30, activation='relu')(hidden1)\n",
    "concat = Concatenate()([input_layer, hidden2])\n",
    "output = Dense(1)(concat)\n",
    "\n",
    "model = Model(inputs=[input_layer], outputs=output)"
   ]
  },
  {
   "cell_type": "code",
   "execution_count": 50,
   "id": "3e097959",
   "metadata": {},
   "outputs": [
    {
     "name": "stdout",
     "output_type": "stream",
     "text": [
      "Model: \"model_1\"\n",
      "__________________________________________________________________________________________________\n",
      "Layer (type)                    Output Shape         Param #     Connected to                     \n",
      "==================================================================================================\n",
      "input_10 (InputLayer)           [(None, 28, 28)]     0                                            \n",
      "__________________________________________________________________________________________________\n",
      "dense_11 (Dense)                (None, 28, 100)      2900        input_10[0][0]                   \n",
      "__________________________________________________________________________________________________\n",
      "dense_12 (Dense)                (None, 28, 30)       3030        dense_11[0][0]                   \n",
      "__________________________________________________________________________________________________\n",
      "concatenate (Concatenate)       (None, 28, 58)       0           input_10[0][0]                   \n",
      "                                                                 dense_12[0][0]                   \n",
      "__________________________________________________________________________________________________\n",
      "dense_13 (Dense)                (None, 28, 1)        59          concatenate[0][0]                \n",
      "==================================================================================================\n",
      "Total params: 5,989\n",
      "Trainable params: 5,989\n",
      "Non-trainable params: 0\n",
      "__________________________________________________________________________________________________\n"
     ]
    }
   ],
   "source": [
    "model.summary()"
   ]
  },
  {
   "cell_type": "code",
   "execution_count": 51,
   "id": "7d307a63",
   "metadata": {},
   "outputs": [],
   "source": [
    "input_1 = Input(shape=(10,10), name='input_1')\n",
    "input_2 = Input(shape=(10,28), name='input_2')\n",
    "\n",
    "hidden1 = Dense(100, activation='relu')(input_2)\n",
    "hidden2 = Dense(10, activation='relu')(hidden1)\n",
    "concat = Concatenate()([input_1, hidden2])\n",
    "output = Dense(1, activation='sigmoid', name='output')(concat)\n",
    "\n",
    "model = Model(inputs=[input_1, input_2], outputs=[output])"
   ]
  },
  {
   "cell_type": "code",
   "execution_count": 52,
   "id": "42d6b782",
   "metadata": {},
   "outputs": [
    {
     "name": "stdout",
     "output_type": "stream",
     "text": [
      "Model: \"model_2\"\n",
      "__________________________________________________________________________________________________\n",
      "Layer (type)                    Output Shape         Param #     Connected to                     \n",
      "==================================================================================================\n",
      "input_2 (InputLayer)            [(None, 10, 28)]     0                                            \n",
      "__________________________________________________________________________________________________\n",
      "dense_14 (Dense)                (None, 10, 100)      2900        input_2[0][0]                    \n",
      "__________________________________________________________________________________________________\n",
      "input_1 (InputLayer)            [(None, 10, 10)]     0                                            \n",
      "__________________________________________________________________________________________________\n",
      "dense_15 (Dense)                (None, 10, 10)       1010        dense_14[0][0]                   \n",
      "__________________________________________________________________________________________________\n",
      "concatenate_1 (Concatenate)     (None, 10, 20)       0           input_1[0][0]                    \n",
      "                                                                 dense_15[0][0]                   \n",
      "__________________________________________________________________________________________________\n",
      "output (Dense)                  (None, 10, 1)        21          concatenate_1[0][0]              \n",
      "==================================================================================================\n",
      "Total params: 3,931\n",
      "Trainable params: 3,931\n",
      "Non-trainable params: 0\n",
      "__________________________________________________________________________________________________\n"
     ]
    }
   ],
   "source": [
    "model.summary()"
   ]
  },
  {
   "cell_type": "code",
   "execution_count": 55,
   "id": "4e70074f",
   "metadata": {},
   "outputs": [],
   "source": [
    "input_ = Input(shape=(10,10), name='input_')\n",
    "\n",
    "hidden1 = Dense(100, activation='relu')(input_)\n",
    "hidden2 = Dense(10, activation='relu')(hidden1)\n",
    "\n",
    "output = Dense(1, activation='sigmoid', name='main_output')(hidden2)\n",
    "sub_out = Dense(1, name='sum_output')(hidden2)\n",
    "\n",
    "model = Model(inputs=[input_], outputs=[output, sub_out])"
   ]
  },
  {
   "cell_type": "code",
   "execution_count": 56,
   "id": "2814cd49",
   "metadata": {},
   "outputs": [
    {
     "name": "stdout",
     "output_type": "stream",
     "text": [
      "Model: \"model_4\"\n",
      "__________________________________________________________________________________________________\n",
      "Layer (type)                    Output Shape         Param #     Connected to                     \n",
      "==================================================================================================\n",
      "input_ (InputLayer)             [(None, 10, 10)]     0                                            \n",
      "__________________________________________________________________________________________________\n",
      "dense_18 (Dense)                (None, 10, 100)      1100        input_[0][0]                     \n",
      "__________________________________________________________________________________________________\n",
      "dense_19 (Dense)                (None, 10, 10)       1010        dense_18[0][0]                   \n",
      "__________________________________________________________________________________________________\n",
      "main_output (Dense)             (None, 10, 1)        11          dense_19[0][0]                   \n",
      "__________________________________________________________________________________________________\n",
      "sum_output (Dense)              (None, 10, 1)        11          dense_19[0][0]                   \n",
      "==================================================================================================\n",
      "Total params: 2,132\n",
      "Trainable params: 2,132\n",
      "Non-trainable params: 0\n",
      "__________________________________________________________________________________________________\n"
     ]
    }
   ],
   "source": [
    "model.summary()"
   ]
  },
  {
   "cell_type": "code",
   "execution_count": 57,
   "id": "50c936f0",
   "metadata": {},
   "outputs": [],
   "source": [
    "input_1 = Input(shape=(10,10))\n",
    "input_2 = Input(shape=(10,28))\n",
    "\n",
    "hidden1 = Dense(100, activation='relu')(input_2)\n",
    "hidden2 = Dense(10, activation='relu')(hidden1)\n",
    "\n",
    "concat = Concatenate()([input_1, hidden2])\n",
    "output = Dense(1, activation='sigmoid')(concat)\n",
    "sub_out = Dense(1)(hidden2)\n",
    "\n",
    "model = Model(inputs=[input_1, input_2], outputs=[output, sub_out])"
   ]
  },
  {
   "cell_type": "code",
   "execution_count": 58,
   "id": "80734a5a",
   "metadata": {},
   "outputs": [
    {
     "name": "stdout",
     "output_type": "stream",
     "text": [
      "Model: \"model_5\"\n",
      "__________________________________________________________________________________________________\n",
      "Layer (type)                    Output Shape         Param #     Connected to                     \n",
      "==================================================================================================\n",
      "input_12 (InputLayer)           [(None, 10, 28)]     0                                            \n",
      "__________________________________________________________________________________________________\n",
      "dense_20 (Dense)                (None, 10, 100)      2900        input_12[0][0]                   \n",
      "__________________________________________________________________________________________________\n",
      "input_11 (InputLayer)           [(None, 10, 10)]     0                                            \n",
      "__________________________________________________________________________________________________\n",
      "dense_21 (Dense)                (None, 10, 10)       1010        dense_20[0][0]                   \n",
      "__________________________________________________________________________________________________\n",
      "concatenate_2 (Concatenate)     (None, 10, 20)       0           input_11[0][0]                   \n",
      "                                                                 dense_21[0][0]                   \n",
      "__________________________________________________________________________________________________\n",
      "dense_22 (Dense)                (None, 10, 1)        21          concatenate_2[0][0]              \n",
      "__________________________________________________________________________________________________\n",
      "dense_23 (Dense)                (None, 10, 1)        11          dense_21[0][0]                   \n",
      "==================================================================================================\n",
      "Total params: 3,942\n",
      "Trainable params: 3,942\n",
      "Non-trainable params: 0\n",
      "__________________________________________________________________________________________________\n"
     ]
    }
   ],
   "source": [
    "model.summary()"
   ]
  },
  {
   "cell_type": "markdown",
   "id": "d0aafd8e",
   "metadata": {},
   "source": [
    "---\n",
    "## subclassing"
   ]
  },
  {
   "cell_type": "code",
   "execution_count": null,
   "id": "100f1fce",
   "metadata": {},
   "outputs": [],
   "source": [
    "class MyModel(Model):\n",
    "    def __init__(self, units=30, activation='relu', **kwargs):\n",
    "        super(MyModel, self).__init__(**kwargs)\n",
    "        \n",
    "        self.dense_layer1 = Dense(300, activation=activation)\n",
    "        self.dense_layer2 = Dense(100, activation=activation)\n",
    "        self.dense_layer3 = Dense(units, activation=activation)\n",
    "        \n",
    "        self.output_layer = Dense(10, activation='softmax')\n",
    "        \n",
    "    def call(self, inputs):\n",
    "        x = self.dense_layer1(inputs)\n",
    "        x = self.dense_layer2(x)\n",
    "        x = self.dense_layer3(x)\n",
    "        x = self.output_layer(x)\n",
    "        \n",
    "        return x\n",
    "        "
   ]
  },
  {
   "cell_type": "markdown",
   "id": "b00e7bac",
   "metadata": {},
   "source": [
    "---\n",
    "## Weights"
   ]
  },
  {
   "cell_type": "code",
   "execution_count": 59,
   "id": "ca03cf9f",
   "metadata": {},
   "outputs": [],
   "source": [
    "inputs = Input(shape=(28,28, 1))\n",
    "\n",
    "x = Flatten(input_shape=(28,28,1))(inputs)\n",
    "x = Dense(300, activation='relu')(x)\n",
    "x = Dense(100, activation='relu')(x)\n",
    "x = Dense(10, activation='softmax')(x)\n",
    "\n",
    "model = Model(inputs=inputs, outputs=x)"
   ]
  },
  {
   "cell_type": "code",
   "execution_count": 60,
   "id": "0887c02b",
   "metadata": {},
   "outputs": [
    {
     "name": "stdout",
     "output_type": "stream",
     "text": [
      "Model: \"model_6\"\n",
      "_________________________________________________________________\n",
      "Layer (type)                 Output Shape              Param #   \n",
      "=================================================================\n",
      "input_13 (InputLayer)        [(None, 28, 28, 1)]       0         \n",
      "_________________________________________________________________\n",
      "flatten_5 (Flatten)          (None, 784)               0         \n",
      "_________________________________________________________________\n",
      "dense_24 (Dense)             (None, 300)               235500    \n",
      "_________________________________________________________________\n",
      "dense_25 (Dense)             (None, 100)               30100     \n",
      "_________________________________________________________________\n",
      "dense_26 (Dense)             (None, 10)                1010      \n",
      "=================================================================\n",
      "Total params: 266,610\n",
      "Trainable params: 266,610\n",
      "Non-trainable params: 0\n",
      "_________________________________________________________________\n"
     ]
    }
   ],
   "source": [
    "model.summary()"
   ]
  },
  {
   "cell_type": "code",
   "execution_count": 62,
   "id": "b2ea793c",
   "metadata": {},
   "outputs": [
    {
     "data": {
      "text/plain": [
       "[<tensorflow.python.keras.engine.input_layer.InputLayer at 0x7f6c43d48910>,\n",
       " <tensorflow.python.keras.layers.core.Flatten at 0x7f6c43d48340>,\n",
       " <tensorflow.python.keras.layers.core.Dense at 0x7f6c43d48970>,\n",
       " <tensorflow.python.keras.layers.core.Dense at 0x7f6c43d48d90>,\n",
       " <tensorflow.python.keras.layers.core.Dense at 0x7f6c43fd1d30>]"
      ]
     },
     "execution_count": 62,
     "metadata": {},
     "output_type": "execute_result"
    }
   ],
   "source": [
    "model.layers"
   ]
  },
  {
   "cell_type": "code",
   "execution_count": 64,
   "id": "353fae06",
   "metadata": {},
   "outputs": [
    {
     "data": {
      "text/plain": [
       "'dense_24'"
      ]
     },
     "execution_count": 64,
     "metadata": {},
     "output_type": "execute_result"
    }
   ],
   "source": [
    "hidden_2 = model.layers[2]\n",
    "hidden_2.name"
   ]
  },
  {
   "cell_type": "code",
   "execution_count": 66,
   "id": "dc7cd1e8",
   "metadata": {},
   "outputs": [
    {
     "data": {
      "text/plain": [
       "True"
      ]
     },
     "execution_count": 66,
     "metadata": {},
     "output_type": "execute_result"
    }
   ],
   "source": [
    "model.get_layer('dense_24') is hidden_2"
   ]
  },
  {
   "cell_type": "code",
   "execution_count": 67,
   "id": "61b65f07",
   "metadata": {},
   "outputs": [],
   "source": [
    "w, b = hidden_2.get_weights()"
   ]
  },
  {
   "cell_type": "code",
   "execution_count": 68,
   "id": "85b9c535",
   "metadata": {},
   "outputs": [
    {
     "data": {
      "text/plain": [
       "(array([[ 3.7001610e-02, -3.8716856e-02,  4.5826986e-02, ...,\n",
       "         -6.0855702e-02,  3.2529593e-02, -6.9256388e-02],\n",
       "        [ 3.7841953e-02, -4.4481926e-02,  1.1223376e-02, ...,\n",
       "         -1.9314907e-02, -7.0995189e-02,  6.9334418e-02],\n",
       "        [-3.5575662e-02, -3.7194490e-03, -2.7681693e-02, ...,\n",
       "          7.3535770e-02,  6.0257986e-02,  1.7405748e-02],\n",
       "        ...,\n",
       "        [ 7.0608124e-02, -6.4488009e-02,  1.6130432e-02, ...,\n",
       "          3.3468135e-02,  7.1502492e-02,  5.3569376e-02],\n",
       "        [ 3.8861014e-02, -3.4205962e-02, -2.4694446e-02, ...,\n",
       "         -1.4764298e-02,  5.9305951e-02, -5.6847930e-05],\n",
       "        [-6.3941076e-02, -3.6847517e-03,  1.6178161e-02, ...,\n",
       "          2.3377761e-02,  4.8806362e-02,  7.3005319e-02]], dtype=float32),\n",
       " array([0., 0., 0., 0., 0., 0., 0., 0., 0., 0., 0., 0., 0., 0., 0., 0., 0.,\n",
       "        0., 0., 0., 0., 0., 0., 0., 0., 0., 0., 0., 0., 0., 0., 0., 0., 0.,\n",
       "        0., 0., 0., 0., 0., 0., 0., 0., 0., 0., 0., 0., 0., 0., 0., 0., 0.,\n",
       "        0., 0., 0., 0., 0., 0., 0., 0., 0., 0., 0., 0., 0., 0., 0., 0., 0.,\n",
       "        0., 0., 0., 0., 0., 0., 0., 0., 0., 0., 0., 0., 0., 0., 0., 0., 0.,\n",
       "        0., 0., 0., 0., 0., 0., 0., 0., 0., 0., 0., 0., 0., 0., 0., 0., 0.,\n",
       "        0., 0., 0., 0., 0., 0., 0., 0., 0., 0., 0., 0., 0., 0., 0., 0., 0.,\n",
       "        0., 0., 0., 0., 0., 0., 0., 0., 0., 0., 0., 0., 0., 0., 0., 0., 0.,\n",
       "        0., 0., 0., 0., 0., 0., 0., 0., 0., 0., 0., 0., 0., 0., 0., 0., 0.,\n",
       "        0., 0., 0., 0., 0., 0., 0., 0., 0., 0., 0., 0., 0., 0., 0., 0., 0.,\n",
       "        0., 0., 0., 0., 0., 0., 0., 0., 0., 0., 0., 0., 0., 0., 0., 0., 0.,\n",
       "        0., 0., 0., 0., 0., 0., 0., 0., 0., 0., 0., 0., 0., 0., 0., 0., 0.,\n",
       "        0., 0., 0., 0., 0., 0., 0., 0., 0., 0., 0., 0., 0., 0., 0., 0., 0.,\n",
       "        0., 0., 0., 0., 0., 0., 0., 0., 0., 0., 0., 0., 0., 0., 0., 0., 0.,\n",
       "        0., 0., 0., 0., 0., 0., 0., 0., 0., 0., 0., 0., 0., 0., 0., 0., 0.,\n",
       "        0., 0., 0., 0., 0., 0., 0., 0., 0., 0., 0., 0., 0., 0., 0., 0., 0.,\n",
       "        0., 0., 0., 0., 0., 0., 0., 0., 0., 0., 0., 0., 0., 0., 0., 0., 0.,\n",
       "        0., 0., 0., 0., 0., 0., 0., 0., 0., 0., 0.], dtype=float32))"
      ]
     },
     "execution_count": 68,
     "metadata": {},
     "output_type": "execute_result"
    }
   ],
   "source": [
    "w, b"
   ]
  },
  {
   "cell_type": "markdown",
   "id": "0558bd8d",
   "metadata": {},
   "source": [
    "---\n",
    "## Compile"
   ]
  },
  {
   "cell_type": "code",
   "execution_count": 69,
   "id": "7e19019b",
   "metadata": {},
   "outputs": [],
   "source": [
    "model.compile(loss='sparse_categorical_crossentropy',\n",
    "             optimizer='sgd',\n",
    "             metrics=['accuracy'])"
   ]
  },
  {
   "cell_type": "markdown",
   "id": "eb3e1615",
   "metadata": {},
   "source": [
    "---\n",
    "## Train"
   ]
  },
  {
   "cell_type": "code",
   "execution_count": 74,
   "id": "d05d0046",
   "metadata": {},
   "outputs": [],
   "source": [
    "from tensorflow.keras.datasets.mnist import load_data\n",
    "from tensorflow.keras.utils import to_categorical\n",
    "\n",
    "from sklearn.model_selection import train_test_split\n",
    "import numpy as np\n",
    "import matplotlib.pyplot as plt\n",
    "plt.style.use('seaborn-white')"
   ]
  },
  {
   "cell_type": "code",
   "execution_count": 75,
   "id": "cbb1ea02",
   "metadata": {},
   "outputs": [],
   "source": [
    "tf.random.set_seed(11241)"
   ]
  },
  {
   "cell_type": "code",
   "execution_count": 76,
   "id": "866b8b4c",
   "metadata": {},
   "outputs": [],
   "source": [
    "(x_train_full, y_train_full), (x_test, y_test) = load_data(path='mnist.npz')\n",
    "x_train, x_val, y_train, y_val = train_test_split(x_train_full, y_train_full, test_size=0.3, random_state=111)"
   ]
  },
  {
   "cell_type": "code",
   "execution_count": 79,
   "id": "43379c35",
   "metadata": {},
   "outputs": [],
   "source": [
    "num_x_train = (x_train.shape[0])\n",
    "num_x_val = (x_val.shape[0])\n",
    "num_x_test = (x_test.shape[0])"
   ]
  },
  {
   "cell_type": "code",
   "execution_count": 80,
   "id": "23dd5f39",
   "metadata": {},
   "outputs": [
    {
     "name": "stdout",
     "output_type": "stream",
     "text": [
      "42000 18000 10000\n"
     ]
    }
   ],
   "source": [
    "print(num_x_train, num_x_val, num_x_test)"
   ]
  },
  {
   "cell_type": "code",
   "execution_count": 88,
   "id": "1e9f02b3",
   "metadata": {},
   "outputs": [
    {
     "data": {
      "image/png": "[encoded data removed]",
      "text/plain": [
       "<Figure size 1152x576 with 5 Axes>"
      ]
     },
     "metadata": {},
     "output_type": "display_data"
    }
   ],
   "source": [
    "num_sample = 5\n",
    "\n",
    "random_idxs = np.random.randint(60000, size=num_sample)\n",
    "\n",
    "plt.figure(figsize=(16,8))\n",
    "for i, idx in enumerate(random_idxs):\n",
    "    img = x_train_full[idx, :]\n",
    "    label = y_train_full[idx]\n",
    "    \n",
    "    plt.subplot(1, len(random_idxs), i+1)\n",
    "    plt.imshow(img)\n",
    "    plt.title(\"Idx : {} / Label : {}\".format(idx, label))"
   ]
  },
  {
   "cell_type": "code",
   "execution_count": 90,
   "id": "0c3f9bbd",
   "metadata": {},
   "outputs": [],
   "source": [
    "x_train = x_train/255.\n",
    "x_val = x_val / 255.\n",
    "x_test = x_test / 255."
   ]
  },
  {
   "cell_type": "code",
   "execution_count": 91,
   "id": "572cd4c9",
   "metadata": {},
   "outputs": [],
   "source": [
    "y_train = to_categorical(y_train)\n",
    "y_val = to_categorical(y_val)\n",
    "y_test = to_categorical(y_test)\n"
   ]
  },
  {
   "cell_type": "code",
   "execution_count": 92,
   "id": "b8891daa",
   "metadata": {},
   "outputs": [
    {
     "name": "stdout",
     "output_type": "stream",
     "text": [
      "WARNING:tensorflow:Please add `keras.layers.InputLayer` instead of `keras.Input` to Sequential model. `keras.Input` is intended to be used by Functional model.\n"
     ]
    }
   ],
   "source": [
    "model = Sequential([Input(shape=(28,28), name='input'),\n",
    "                   Flatten(input_shape=[28,28], name='flatten'),\n",
    "                   Dense(128, activation='relu', name='dense1'),\n",
    "                   Dense(64, activation='relu', name='dense2'),\n",
    "                   Dense(32, activation='relu', name='dense3'),\n",
    "                   Dense(10, activation='softmax', name='output')])"
   ]
  },
  {
   "cell_type": "code",
   "execution_count": 93,
   "id": "8a5a8070",
   "metadata": {},
   "outputs": [
    {
     "name": "stdout",
     "output_type": "stream",
     "text": [
      "Model: \"sequential_4\"\n",
      "_________________________________________________________________\n",
      "Layer (type)                 Output Shape              Param #   \n",
      "=================================================================\n",
      "flatten (Flatten)            (None, 784)               0         \n",
      "_________________________________________________________________\n",
      "dense1 (Dense)               (None, 128)               100480    \n",
      "_________________________________________________________________\n",
      "dense2 (Dense)               (None, 64)                8256      \n",
      "_________________________________________________________________\n",
      "dense3 (Dense)               (None, 32)                2080      \n",
      "_________________________________________________________________\n",
      "output (Dense)               (None, 10)                330       \n",
      "=================================================================\n",
      "Total params: 111,146\n",
      "Trainable params: 111,146\n",
      "Non-trainable params: 0\n",
      "_________________________________________________________________\n"
     ]
    }
   ],
   "source": [
    "model.summary()"
   ]
  },
  {
   "cell_type": "code",
   "execution_count": 95,
   "id": "4dcc2ef2",
   "metadata": {},
   "outputs": [],
   "source": [
    "model.compile(loss='categorical_crossentropy',\n",
    "             optimizer='sgd',\n",
    "             metrics=['acc'])"
   ]
  },
  {
   "cell_type": "code",
   "execution_count": 97,
   "id": "df28c66b",
   "metadata": {},
   "outputs": [
    {
     "name": "stdout",
     "output_type": "stream",
     "text": [
      "Epoch 1/50\n",
      "329/329 [==============================] - 1s 2ms/step - loss: 1.7104 - acc: 0.5458 - val_loss: 0.9655 - val_acc: 0.7736\n",
      "Epoch 2/50\n",
      "329/329 [==============================] - 0s 1ms/step - loss: 0.6740 - acc: 0.8344 - val_loss: 0.5490 - val_acc: 0.8438\n",
      "Epoch 3/50\n",
      "329/329 [==============================] - 0s 1ms/step - loss: 0.4588 - acc: 0.8748 - val_loss: 0.4145 - val_acc: 0.8854\n",
      "Epoch 4/50\n",
      "329/329 [==============================] - 0s 1ms/step - loss: 0.3854 - acc: 0.8927 - val_loss: 0.3600 - val_acc: 0.8969\n",
      "Epoch 5/50\n",
      "329/329 [==============================] - 0s 1ms/step - loss: 0.3446 - acc: 0.9026 - val_loss: 0.3334 - val_acc: 0.9024\n",
      "Epoch 6/50\n",
      "329/329 [==============================] - 0s 1ms/step - loss: 0.3174 - acc: 0.9095 - val_loss: 0.3195 - val_acc: 0.9063\n",
      "Epoch 7/50\n",
      "329/329 [==============================] - 0s 1ms/step - loss: 0.2958 - acc: 0.9162 - val_loss: 0.3066 - val_acc: 0.9063\n",
      "Epoch 8/50\n",
      "329/329 [==============================] - 0s 1ms/step - loss: 0.2786 - acc: 0.9197 - val_loss: 0.2762 - val_acc: 0.9188\n",
      "Epoch 9/50\n",
      "329/329 [==============================] - 0s 1ms/step - loss: 0.2636 - acc: 0.9244 - val_loss: 0.2682 - val_acc: 0.9229\n",
      "Epoch 10/50\n",
      "329/329 [==============================] - 0s 1ms/step - loss: 0.2505 - acc: 0.9286 - val_loss: 0.2515 - val_acc: 0.9258\n",
      "Epoch 11/50\n",
      "329/329 [==============================] - 0s 1ms/step - loss: 0.2391 - acc: 0.9315 - val_loss: 0.2509 - val_acc: 0.9267\n",
      "Epoch 12/50\n",
      "329/329 [==============================] - 0s 1ms/step - loss: 0.2282 - acc: 0.9340 - val_loss: 0.2321 - val_acc: 0.9326\n",
      "Epoch 13/50\n",
      "329/329 [==============================] - 0s 1ms/step - loss: 0.2190 - acc: 0.9370 - val_loss: 0.2253 - val_acc: 0.9347\n",
      "Epoch 14/50\n",
      "329/329 [==============================] - 0s 1ms/step - loss: 0.2099 - acc: 0.9398 - val_loss: 0.2229 - val_acc: 0.9343\n",
      "Epoch 15/50\n",
      "329/329 [==============================] - 0s 1ms/step - loss: 0.2016 - acc: 0.9426 - val_loss: 0.2144 - val_acc: 0.9377\n",
      "Epoch 16/50\n",
      "329/329 [==============================] - 0s 1ms/step - loss: 0.1942 - acc: 0.9445 - val_loss: 0.2079 - val_acc: 0.9412\n",
      "Epoch 17/50\n",
      "329/329 [==============================] - 0s 1ms/step - loss: 0.1871 - acc: 0.9464 - val_loss: 0.2176 - val_acc: 0.9366\n",
      "Epoch 18/50\n",
      "329/329 [==============================] - 0s 1ms/step - loss: 0.1801 - acc: 0.9480 - val_loss: 0.2038 - val_acc: 0.9397\n",
      "Epoch 19/50\n",
      "329/329 [==============================] - 0s 1ms/step - loss: 0.1739 - acc: 0.9496 - val_loss: 0.1912 - val_acc: 0.9456\n",
      "Epoch 20/50\n",
      "329/329 [==============================] - 0s 1ms/step - loss: 0.1678 - acc: 0.9516 - val_loss: 0.1845 - val_acc: 0.9458\n",
      "Epoch 21/50\n",
      "329/329 [==============================] - 0s 1ms/step - loss: 0.1618 - acc: 0.9534 - val_loss: 0.1973 - val_acc: 0.9420\n",
      "Epoch 22/50\n",
      "329/329 [==============================] - 0s 1ms/step - loss: 0.1569 - acc: 0.9540 - val_loss: 0.1766 - val_acc: 0.9486\n",
      "Epoch 23/50\n",
      "329/329 [==============================] - 0s 1ms/step - loss: 0.1515 - acc: 0.9550 - val_loss: 0.1729 - val_acc: 0.9494\n",
      "Epoch 24/50\n",
      "329/329 [==============================] - 0s 1ms/step - loss: 0.1470 - acc: 0.9571 - val_loss: 0.1733 - val_acc: 0.9486\n",
      "Epoch 25/50\n",
      "329/329 [==============================] - 0s 1ms/step - loss: 0.1425 - acc: 0.9580 - val_loss: 0.1635 - val_acc: 0.9519\n",
      "Epoch 26/50\n",
      "329/329 [==============================] - 0s 1ms/step - loss: 0.1378 - acc: 0.9592 - val_loss: 0.1644 - val_acc: 0.9519\n",
      "Epoch 27/50\n",
      "329/329 [==============================] - 0s 1ms/step - loss: 0.1339 - acc: 0.9602 - val_loss: 0.1597 - val_acc: 0.9524\n",
      "Epoch 28/50\n",
      "329/329 [==============================] - 0s 1ms/step - loss: 0.1300 - acc: 0.9620 - val_loss: 0.1578 - val_acc: 0.9541\n",
      "Epoch 29/50\n",
      "329/329 [==============================] - 0s 1ms/step - loss: 0.1262 - acc: 0.9629 - val_loss: 0.1532 - val_acc: 0.9535\n",
      "Epoch 30/50\n",
      "329/329 [==============================] - 0s 1ms/step - loss: 0.1226 - acc: 0.9644 - val_loss: 0.1512 - val_acc: 0.9539\n",
      "Epoch 31/50\n",
      "329/329 [==============================] - 0s 1ms/step - loss: 0.1195 - acc: 0.9647 - val_loss: 0.1476 - val_acc: 0.9558\n",
      "Epoch 32/50\n",
      "329/329 [==============================] - 0s 1ms/step - loss: 0.1162 - acc: 0.9661 - val_loss: 0.1462 - val_acc: 0.9562\n",
      "Epoch 33/50\n",
      "329/329 [==============================] - 0s 1ms/step - loss: 0.1129 - acc: 0.9674 - val_loss: 0.1429 - val_acc: 0.9577\n",
      "Epoch 34/50\n",
      "329/329 [==============================] - 0s 1ms/step - loss: 0.1100 - acc: 0.9676 - val_loss: 0.1445 - val_acc: 0.9562\n",
      "Epoch 35/50\n",
      "329/329 [==============================] - 0s 1ms/step - loss: 0.1072 - acc: 0.9691 - val_loss: 0.1491 - val_acc: 0.9561\n",
      "Epoch 36/50\n",
      "329/329 [==============================] - 0s 1ms/step - loss: 0.1045 - acc: 0.9695 - val_loss: 0.1402 - val_acc: 0.9572\n",
      "Epoch 37/50\n",
      "329/329 [==============================] - 0s 1ms/step - loss: 0.1017 - acc: 0.9708 - val_loss: 0.1355 - val_acc: 0.9583\n",
      "Epoch 38/50\n",
      "329/329 [==============================] - 0s 1ms/step - loss: 0.0991 - acc: 0.9716 - val_loss: 0.1333 - val_acc: 0.9604\n",
      "Epoch 39/50\n",
      "329/329 [==============================] - 0s 1ms/step - loss: 0.0965 - acc: 0.9725 - val_loss: 0.1320 - val_acc: 0.9603\n",
      "Epoch 40/50\n",
      "329/329 [==============================] - 0s 1ms/step - loss: 0.0943 - acc: 0.9727 - val_loss: 0.1314 - val_acc: 0.9598\n",
      "Epoch 41/50\n",
      "329/329 [==============================] - 0s 1ms/step - loss: 0.0922 - acc: 0.9734 - val_loss: 0.1323 - val_acc: 0.9603\n",
      "Epoch 42/50\n",
      "329/329 [==============================] - 0s 1ms/step - loss: 0.0898 - acc: 0.9737 - val_loss: 0.1334 - val_acc: 0.9599\n",
      "Epoch 43/50\n",
      "329/329 [==============================] - 0s 1ms/step - loss: 0.0876 - acc: 0.9743 - val_loss: 0.1300 - val_acc: 0.9600\n",
      "Epoch 44/50\n",
      "329/329 [==============================] - 0s 1ms/step - loss: 0.0851 - acc: 0.9758 - val_loss: 0.1416 - val_acc: 0.9569\n",
      "Epoch 45/50\n",
      "329/329 [==============================] - 0s 1ms/step - loss: 0.0834 - acc: 0.9760 - val_loss: 0.1364 - val_acc: 0.9581\n",
      "Epoch 46/50\n",
      "329/329 [==============================] - 0s 1ms/step - loss: 0.0818 - acc: 0.9768 - val_loss: 0.1253 - val_acc: 0.9618\n",
      "Epoch 47/50\n",
      "329/329 [==============================] - 0s 1ms/step - loss: 0.0795 - acc: 0.9769 - val_loss: 0.1322 - val_acc: 0.9598\n",
      "Epoch 48/50\n",
      "329/329 [==============================] - 0s 1ms/step - loss: 0.0777 - acc: 0.9779 - val_loss: 0.1198 - val_acc: 0.9638\n",
      "Epoch 49/50\n",
      "329/329 [==============================] - 0s 1ms/step - loss: 0.0757 - acc: 0.9786 - val_loss: 0.1202 - val_acc: 0.9633\n",
      "Epoch 50/50\n",
      "329/329 [==============================] - 0s 1ms/step - loss: 0.0742 - acc: 0.9791 - val_loss: 0.1352 - val_acc: 0.9587\n"
     ]
    }
   ],
   "source": [
    "history = model.fit(x_train, y_train, \n",
    "                   epochs=50, batch_size=128, validation_data=(x_val,y_val))"
   ]
  },
  {
   "cell_type": "code",
   "execution_count": 99,
   "id": "c379cc4f",
   "metadata": {},
   "outputs": [
    {
     "data": {
      "text/plain": [
       "dict_keys(['loss', 'acc', 'val_loss', 'val_acc'])"
      ]
     },
     "execution_count": 99,
     "metadata": {},
     "output_type": "execute_result"
    }
   ],
   "source": [
    "history.history.keys()"
   ]
  },
  {
   "cell_type": "code",
   "execution_count": 101,
   "id": "f52c9e2d",
   "metadata": {},
   "outputs": [
    {
     "data": {
      "image/png": "[encoded data removed]",
      "text/plain": [
       "<Figure size 864x432 with 2 Axes>"
      ]
     },
     "metadata": {},
     "output_type": "display_data"
    }
   ],
   "source": [
    "history_dict = history.history\n",
    "\n",
    "loss = history_dict['loss']\n",
    "val_loss = history_dict['val_loss']\n",
    "\n",
    "epochs = range(1, len(loss)+1)\n",
    "fig = plt.figure(figsize=(12,6))\n",
    "\n",
    "ax1 = fig.add_subplot(1,2,1)\n",
    "ax1.plot(epochs, loss, color='blue', label='train_loss')\n",
    "ax1.plot(epochs, val_loss, color='red', label='val_loss')\n",
    "ax1.set_title('Train & Val Loss')\n",
    "ax1.set_xlabel('Epochs')\n",
    "ax1.set_ylabel('Loss')\n",
    "ax1.grid()\n",
    "ax1.legend()\n",
    "\n",
    "accuracy = history_dict['acc']\n",
    "val_accuracy = history_dict['val_acc']\n",
    "ax2 = fig.add_subplot(1,2,2)\n",
    "ax2.plot(epochs, accuracy, color='blue', label='train_acc')\n",
    "ax2.plot(epochs, val_accuracy, color='red', label='val_acc')\n",
    "ax2.set_title('Train & Val Acc')\n",
    "ax2.set_xlabel('Epochs')\n",
    "ax2.set_ylabel('Accuracy')\n",
    "ax2.grid()\n",
    "ax2.legend()\n",
    "\n",
    "plt.show()"
   ]
  },
  {
   "cell_type": "code",
   "execution_count": 102,
   "id": "3ff33741",
   "metadata": {},
   "outputs": [
    {
     "name": "stdout",
     "output_type": "stream",
     "text": [
      "313/313 [==============================] - 0s 443us/step - loss: 0.1177 - acc: 0.9630\n"
     ]
    },
    {
     "data": {
      "text/plain": [
       "[0.11771530658006668, 0.9629999995231628]"
      ]
     },
     "execution_count": 102,
     "metadata": {},
     "output_type": "execute_result"
    }
   ],
   "source": [
    "model.evaluate(x_test, y_test)"
   ]
  },
  {
   "cell_type": "code",
   "execution_count": 109,
   "id": "8ea79366",
   "metadata": {},
   "outputs": [
    {
     "name": "stdout",
     "output_type": "stream",
     "text": [
      "(10000, 10)\n",
      "[1.8384801e-06 1.6404896e-07 3.6991030e-04 1.4038411e-03 3.6883114e-07\n",
      " 2.3353576e-07 7.2894564e-12 9.9816895e-01 1.3833720e-06 5.3409280e-05]\n"
     ]
    }
   ],
   "source": [
    "pred_ys = model.predict(x_test)\n",
    "print(pred_ys.shape)\n",
    "\n",
    "np.set_printoptions(precision=7)\n",
    "print(pred_ys[0])"
   ]
  },
  {
   "cell_type": "code",
   "execution_count": 111,
   "id": "b7fb1ea6",
   "metadata": {},
   "outputs": [
    {
     "data": {
      "text/plain": [
       "Text(0.5, 1.0, '7')"
      ]
     },
     "execution_count": 111,
     "metadata": {},
     "output_type": "execute_result"
    },
    {
     "data": {
      "image/png": "[encoded data removed]",
      "text/plain": [
       "<Figure size 432x288 with 1 Axes>"
      ]
     },
     "metadata": {},
     "output_type": "display_data"
    }
   ],
   "source": [
    "arg_pred_y = np.argmax(pred_ys, axis=1)\n",
    "plt.imshow(x_test[0])\n",
    "plt.title(arg_pred_y[0])"
   ]
  },
  {
   "cell_type": "code",
   "execution_count": 113,
   "id": "1c07691a",
   "metadata": {},
   "outputs": [],
   "source": [
    "from sklearn.metrics import classification_report, confusion_matrix\n",
    "import seaborn as sns\n",
    "sns.set(style='white')"
   ]
  },
  {
   "cell_type": "code",
   "execution_count": 117,
   "id": "8e70077b",
   "metadata": {},
   "outputs": [
    {
     "data": {
      "text/plain": [
       "Text(21.5, 0.5, 'true')"
      ]
     },
     "execution_count": 117,
     "metadata": {},
     "output_type": "execute_result"
    },
    {
     "data": {
      "image/png": "[encoded data removed]",
      "text/plain": [
       "<Figure size 360x360 with 2 Axes>"
      ]
     },
     "metadata": {},
     "output_type": "display_data"
    }
   ],
   "source": [
    "plt.figure(figsize=(5,5))\n",
    "cm = confusion_matrix(np.argmax(y_test, axis=-1), np.argmax(pred_ys, axis=-1))\n",
    "sns.heatmap(cm, annot=True, fmt='d', cmap='Blues')\n",
    "plt.xlabel('Pred')\n",
    "plt.ylabel('true')"
   ]
  },
  {
   "cell_type": "code",
   "execution_count": 118,
   "id": "65331f49",
   "metadata": {},
   "outputs": [
    {
     "name": "stdout",
     "output_type": "stream",
     "text": [
      "              precision    recall  f1-score   support\n",
      "\n",
      "           0       0.98      0.98      0.98       980\n",
      "           1       0.98      0.99      0.98      1135\n",
      "           2       0.98      0.93      0.95      1032\n",
      "           3       0.97      0.95      0.96      1010\n",
      "           4       0.95      0.98      0.96       982\n",
      "           5       0.97      0.95      0.96       892\n",
      "           6       0.96      0.97      0.96       958\n",
      "           7       0.97      0.96      0.96      1028\n",
      "           8       0.94      0.97      0.95       974\n",
      "           9       0.94      0.96      0.95      1009\n",
      "\n",
      "    accuracy                           0.96     10000\n",
      "   macro avg       0.96      0.96      0.96     10000\n",
      "weighted avg       0.96      0.96      0.96     10000\n",
      "\n"
     ]
    }
   ],
   "source": [
    "print(classification_report(np.argmax(y_test, axis=-1), np.argmax(pred_ys, axis=-1)))"
   ]
  },
  {
   "cell_type": "code",
   "execution_count": null,
   "id": "2e38c41e",
   "metadata": {},
   "outputs": [],
   "source": []
  },
  {
   "cell_type": "code",
   "execution_count": null,
   "id": "de089192",
   "metadata": {},
   "outputs": [],
   "source": []
  },
  {
   "cell_type": "code",
   "execution_count": null,
   "id": "237486b8",
   "metadata": {},
   "outputs": [],
   "source": []
  },
  {
   "cell_type": "code",
   "execution_count": null,
   "id": "310aa7d2",
   "metadata": {},
   "outputs": [],
   "source": []
  },
  {
   "cell_type": "code",
   "execution_count": null,
   "id": "50a769ac",
   "metadata": {},
   "outputs": [],
   "source": []
  },
  {
   "cell_type": "code",
   "execution_count": null,
   "id": "17cc7977",
   "metadata": {},
   "outputs": [],
   "source": []
  },
  {
   "cell_type": "code",
   "execution_count": null,
   "id": "ded75388",
   "metadata": {},
   "outputs": [],
   "source": []
  },
  {
   "cell_type": "code",
   "execution_count": null,
   "id": "9ad1dc6f",
   "metadata": {},
   "outputs": [],
   "source": []
  },
  {
   "cell_type": "code",
   "execution_count": null,
   "id": "f81dc679",
   "metadata": {},
   "outputs": [],
   "source": []
  },
  {
   "cell_type": "code",
   "execution_count": null,
   "id": "3cbcc5fe",
   "metadata": {},
   "outputs": [],
   "source": []
  },
  {
   "cell_type": "code",
   "execution_count": null,
   "id": "11f7dccc",
   "metadata": {},
   "outputs": [],
   "source": []
  },
  {
   "cell_type": "code",
   "execution_count": null,
   "id": "c284e691",
   "metadata": {},
   "outputs": [],
   "source": []
  }
 ],
 "metadata": {
  "kernelspec": {
   "display_name": "Python 3",
   "language": "python",
   "name": "python3"
  },
  "language_info": {
   "codemirror_mode": {
    "name": "ipython",
    "version": 3
   },
   "file_extension": ".py",
   "mimetype": "text/x-python",
   "name": "python",
   "nbconvert_exporter": "python",
   "pygments_lexer": "ipython3",
   "version": "3.8.10"
  }
 },
 "nbformat": 4,
 "nbformat_minor": 5
}
